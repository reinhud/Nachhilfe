{
 "cells": [
  {
   "cell_type": "code",
   "execution_count": 1,
   "id": "1be9753c",
   "metadata": {},
   "outputs": [],
   "source": [
    "%matplotlib inline\n",
    "import matplotlib.pyplot as plt\n",
    "# plt.style.use('seaborn')\n",
    "import numpy as np\n",
    "import math"
   ]
  },
  {
   "cell_type": "code",
   "execution_count": 2,
   "id": "16249070",
   "metadata": {},
   "outputs": [],
   "source": [
    "#TODO: Implement seaborn plot styles"
   ]
  },
  {
   "cell_type": "markdown",
   "id": "5d3f48d4",
   "metadata": {},
   "source": [
    "# Funktionen\n",
    "---\n",
    "---"
   ]
  },
  {
   "cell_type": "markdown",
   "id": "92a25f63",
   "metadata": {},
   "source": [
    "## Definitionen\n",
    "### Funktion  \n",
    "Eine Funktion $f$ ordnet *jedem* Element **x** (Funktionsargument, unabhängige Variable, *x*-Wert) einer Definitonsmenge $D$ genau *genau ein* Element **y** (Funktionswert, abhängige Variable, *y*-Wert) der Zielmenge $Z$ zu:  \n",
    "$f: D \\rightarrow Z, x \\mapsto y$"
   ]
  },
  {
   "cell_type": "markdown",
   "id": "938e0d9d",
   "metadata": {},
   "source": [
    "---\n",
    "---\n",
    "## Funktionen Grundlagen  \n",
    "---\n",
    "---"
   ]
  },
  {
   "cell_type": "markdown",
   "id": "f87beb10",
   "metadata": {},
   "source": [
    "## Eigenschaften von Funktionen\n",
    "---"
   ]
  },
  {
   "cell_type": "markdown",
   "id": "3439a1f9",
   "metadata": {},
   "source": [
    "### Monotonie\n",
    "---\n",
    "Die Monotonie einer Funktion beschreibt den Verlauf des Graphen der Funktion.  \n",
    "Oft betrachtet man Monotonieverhalten im Bezug auf unterschiedliche Intervalle.  \n",
    "Denke dabei daran dass sich jeweils bei Vorzeichenwechsel der Ableitungen an der Stelle x auch \n",
    "die Steigung und daher auch die Monotonie ändert.  \n",
    "**Definition:**  \n",
    "* $f'(x)\\geq 0 \\Rightarrow$ **Monoton Steigend**  \n",
    "* $f'(x)\\leq 0 \\Rightarrow$ **Monoton Fallend**"
   ]
  },
  {
   "cell_type": "markdown",
   "id": "d5a6d09d",
   "metadata": {},
   "source": [
    "**Beispiel**  \n",
    "Untersuche die Funktion $f(x) = x^3-2x^2+4$ auf Monotonie."
   ]
  },
  {
   "cell_type": "markdown",
   "id": "4a95930f",
   "metadata": {},
   "source": [
    "**Lösung**  \n",
    "1. Unteruche die Ableitung auf Nullstellen, dies hilft beim bestimmen der unterschiedlichen Intervalle:  \n",
    "$f'(x) = 3x^2-2x^2+4 \\stackrel{!}{=} 0$ \n",
    "$x(3x-4) = 0$  \n",
    "$\\Rightarrow x_{1} = 0, x_{2} = \\frac{4}{3}$\n",
    "2. Bestimme Intervalle:  \n",
    "$I_{1} = (-\\infty, 0), I_{2} = (0, \\frac{4}{3}), I_{3} = (\\frac{4}{3}, \\infty)$  \n",
    "3. Bestimme Monotonie in den Intervallen:  \n",
    "Nimm hierzu jeweils Werte aus den einzelnen INtervallen und setze sie in die Ableitung ein.  \n",
    "$I_{1}: f'(-2) = 20 > 0 \\Rightarrow$ **monoton steigend** auf $I_{1}$  \n",
    "$I_{2}: f'(1) = -1 < 0 \\Rightarrow$ **monoton fallend** auf $I_{2}$  \n",
    "$I_{3}: f'(2) = 4 > 0 \\Rightarrow$ **monoton steigend** auf $I_{3}$  "
   ]
  },
  {
   "cell_type": "code",
   "execution_count": 3,
   "id": "392f7001",
   "metadata": {
    "tags": [
     "{",
     "\"tags\":",
     "[",
     "\"hide-input\"",
     "]",
     "}"
    ]
   },
   "outputs": [
    {
     "data": {
      "image/png": "[encoded data removed]",
      "text/plain": [
       "<Figure size 432x288 with 1 Axes>"
      ]
     },
     "metadata": {
      "needs_background": "light"
     },
     "output_type": "display_data"
    }
   ],
   "source": [
    "fig = plt.figure()\n",
    "ax = plt.axes()\n",
    "ax.spines['left'].set_position('center')\n",
    "ax.spines['bottom'].set_position('zero')\n",
    "ax.spines['right'].set_color('none')\n",
    "ax.spines['top'].set_color('none')\n",
    "ax.xaxis.set_ticks_position('bottom')\n",
    "ax.yaxis.set_ticks_position('left')\n",
    "\n",
    "ax.set_ylim([-200, 200])\n",
    "ax.set_xlim([-7, 7])\n",
    "\n",
    "x = np.linspace(-7, 7, 1000)\n",
    "y = x**3 - 2* x**2 + 4\n",
    "y_dx = 3*x**2 - 4*x\n",
    "plt.plot(x, y, label=\"f(x)\")\n",
    "plt.plot(x, y_dx, label=\"f '(x)\")\n",
    "plt.legend(loc=\"upper left\")\n",
    "plt.show()"
   ]
  },
  {
   "cell_type": "code",
   "execution_count": null,
   "id": "3bdf6df0",
   "metadata": {},
   "outputs": [],
   "source": []
  },
  {
   "cell_type": "markdown",
   "id": "e8248a61",
   "metadata": {},
   "source": [
    "### Krümmung  \n",
    "---\n",
    "Die Krümmung einer zweifach differenzierbaren Funktion kann durch die zweifache Ableitung berechnet werden. Man unterscheidet zwischen keiner Krümmung, Linkskrümmung und Rechtskrümmung.  \n",
    "Eine Funktion ist an einer Stelle $x_0$ nicht gekrümmt, falls gilt $f''(x) = 0$.  \n",
    "Häufig betrachten wir Krümmungsverhalten auf bestimmten Intervallen.  \n",
    "**Definition:**  \n",
    "* $f''(x) > 0 \\Rightarrow$ **Linksgekrümmt/ Konvex**  \n",
    "* $f''(x) < 0 \\Rightarrow$ **Rechtsgekrümmt/ Konkav**  "
   ]
  },
  {
   "cell_type": "markdown",
   "id": "88ecfe4b",
   "metadata": {},
   "source": [
    "**Beispiel**  \n",
    "In welchem Intervall ist $f(x)=x^3-3x^2+2x+4$ *konkav*?"
   ]
  },
  {
   "cell_type": "markdown",
   "id": "1d2fdec9",
   "metadata": {},
   "source": [
    "**Lösung**  \n",
    "1. Finde Intervalgrenzen mithilfe der zweiten Ableitung:\n",
    "$f'(x) = 3x^2 -6x+2$  \n",
    "$f''(x)=6x-6$  \n",
    "Nun suchen wir das Intervall in dem $f''(x) < 0$ gilt.    \n",
    "$6x-6 < 0 \\Rightarrow x <1$  \n",
    "Also ist für alle $x<1$ unsere Funktion **konkav**.  "
   ]
  },
  {
   "cell_type": "code",
   "execution_count": null,
   "id": "643cdee8",
   "metadata": {},
   "outputs": [],
   "source": []
  },
  {
   "cell_type": "markdown",
   "id": "9752a0c2",
   "metadata": {},
   "source": [
    "### Symmetrie\n",
    "---\n",
    "#### Achsensymmetrie\n",
    "---\n",
    "##### y- Achse\n",
    "Eine Funktion ist genau dann Achsensymmetrisch zur y- Achse falls der Graph links der y- Achse ein Spiegelbild  \n",
    "des Graphen rechts der y- Achse ist.  \n",
    "**Definition:**  \n",
    "+ $f(x) = f(x)$  \n",
    "\n",
    "##### Beliebige vertikale Achse\n",
    "**Definition:**  \n",
    "* $f(h-x) = f(h+x)$\n",
    "\n",
    "#### Punktsymmetrie  \n",
    "---\n",
    "##### Ursprung\n",
    "Eine Funktion gilt als punktsymmetrisch, wenn sie durch eine Spiegelung am Symmetriepunkt auf sich selbst abgebildet wird.   \n",
    "**Definition:**\n",
    "* $f(-x) = -f(x)$\n",
    "\n",
    "#### Merke:\n",
    "Für Polynomfunktionen gilt:\n",
    "1. **Punktsymmetrie** zum Ursprung liegt nur vor, wenn *ausschließlich* **ungerade Exponenten** in der Funktionsgleichung vorliegen.  \n",
    "2. **Achsensymmetrie** zur y-Achse liegt nur vor, wenn *ausschließlich* **gerade Exponenten** in der Funktionsgleichung vorliegen. "
   ]
  },
  {
   "cell_type": "markdown",
   "id": "dbed95b7",
   "metadata": {},
   "source": [
    "**Beispiel 1**  \n",
    "Ist $f(x)=x^2-6x+9$ *achsensymmetrisch*?   "
   ]
  },
  {
   "cell_type": "code",
   "execution_count": 4,
   "id": "8de0a2ec",
   "metadata": {},
   "outputs": [
    {
     "data": {
      "image/png": "[encoded data removed]",
      "text/plain": [
       "<Figure size 432x288 with 1 Axes>"
      ]
     },
     "metadata": {
      "needs_background": "light"
     },
     "output_type": "display_data"
    }
   ],
   "source": [
    "fig1 = plt.figure()\n",
    "ax1 = plt.axes()\n",
    "ax1.spines['left'].set_position('center')\n",
    "ax1.spines['bottom'].set_position('zero')\n",
    "ax1.spines['right'].set_color('none')\n",
    "ax1.spines['top'].set_color('none')\n",
    "ax1.xaxis.set_ticks_position('bottom')\n",
    "ax1.yaxis.set_ticks_position('left')\n",
    "\n",
    "ax1.set_ylim([0, 100])\n",
    "ax1.set_xlim([-20, 20])\n",
    "\n",
    "x = np.linspace(-25, 25, 1000)\n",
    "y = x**2-6*x+9\n",
    "plt.plot(x, y, label=\"f(x)\")\n",
    "plt.legend(loc=\"upper left\")\n",
    "plt.show()"
   ]
  },
  {
   "cell_type": "markdown",
   "id": "a9f9df43",
   "metadata": {},
   "source": [
    "**Lösung** \n",
    "1. \n",
    "Wir suchen die symmetrie irgendeiner vertikalen Achse. Daher bestimmen  \n",
    "wir erst mögliche Kandidaten einer Symmetrieachse. Bei quadratischen Funktionen  \n",
    "wäre der Kandidat die Achse die durch den Extrempunkt verläuft.    \n",
    "$f'(x) = 2x -6 \\stackrel{!}{=} 0  \\Rightarrow x = 3$  \n",
    "$f''(x) \\ne 0 $  \n",
    "2. Teste Bedingung:   \n",
    "$f(3+x) = (3+x)^2-6(3+x)+9 = x^2$  \n",
    "$f(3-x) = (3-x)^2-6(3-x)+9 = x^2 \\iff f(3+x) = f(3-x) \\Rightarrow$  **achsensymmetrisch** zur Achse bei $x=2$."
   ]
  },
  {
   "cell_type": "markdown",
   "id": "e01f27a0",
   "metadata": {},
   "source": [
    "**Beispiel 2**  \n",
    "Ist $f(x) = xe^{x^2}$ *punktsymmetrisch* zum Ursprung?  "
   ]
  },
  {
   "cell_type": "code",
   "execution_count": 8,
   "id": "e9b1d850",
   "metadata": {},
   "outputs": [
    {
     "data": {
      "image/png": "[encoded data removed]",
      "text/plain": [
       "<Figure size 432x288 with 1 Axes>"
      ]
     },
     "metadata": {
      "needs_background": "light"
     },
     "output_type": "display_data"
    }
   ],
   "source": [
    "fig2 = plt.figure()\n",
    "ax2 = plt.axes()\n",
    "ax2.spines['left'].set_position('center')\n",
    "ax2.spines['bottom'].set_position('zero')\n",
    "ax2.spines['right'].set_color('none')\n",
    "ax2.spines['top'].set_color('none')\n",
    "ax2.xaxis.set_ticks_position('bottom')\n",
    "ax2.yaxis.set_ticks_position('left')\n",
    "\n",
    "ax2.set_ylim([-50, 50])\n",
    "ax2.set_xlim([-10, 10])\n",
    "\n",
    "x = np.linspace(-10, 10, 1000)\n",
    "y = x*np.exp(x**2)\n",
    "plt.plot(x, y, label=\"f(x)\")\n",
    "plt.legend(loc=\"upper left\")\n",
    "plt.show()"
   ]
  },
  {
   "cell_type": "markdown",
   "id": "2fd80e73",
   "metadata": {},
   "source": [
    "**Lösung**  \n",
    "1. Teste Bedingung   \n",
    "$f(-x) = (-x)e^{(-x)^2} =-xe^{x^2} = -(xe^{x^2}) = -f(x)$\n",
    "$ \\Rightarrow$ also **punktsymmetrisch**"
   ]
  },
  {
   "cell_type": "code",
   "execution_count": null,
   "id": "07e038ef",
   "metadata": {},
   "outputs": [],
   "source": []
  },
  {
   "cell_type": "markdown",
   "id": "597ca46c",
   "metadata": {},
   "source": [
    "### Grenzverhalten\n",
    "---\n",
    "Grenzwerte beschreiben was mit dem Funktionswert $f(x)$ passiert, wenn sich $x$ einem bestimmten Wert $a$ nähert.  \n",
    "Häufig betrachten wir das Grenzverhalten im Unendlichen und setzen $a = -\\infty$ oder $a = \\infty$.  \n",
    "Dabei geben wir Grenzwerte mithilfe des sogennanten Limesschreibweise an. \n",
    "Dabei steht unter dem „lim“ die Variable und gegen welche Zahl sie geht (also welchem Wert die Variable immer näherkommt). Nach dem „lim“ steht dann die Funktion, worin dann die Werte für x eingesetzt werden, zum Beispiel:  \n",
    "$\\lim \\limits_{x \\to \\infty}\\frac{1}{x}$  \n",
    "Diese Schreibweise bedeutet, dass man für $x$ in die Funktion $1/x$ Werte einsetzt, immer näher an unendlich rankommen. Man kann ja keinen unendlichen Wert einsetzen, aber man kann mit dem Limes „gucken“ was für unendlich rauskommen würde.  Man spricht dann „Limes gegen unendlich“. Das geht natürlich auch mit allen anderen Werten, nicht nur für unendlich.  \n",
    "#### Grenzwertsätze\n",
    "Diese beschreiben das rechnen mit mehreren Grenzwerten.  \n",
    "**Summenregel:**  \n",
    "$\\lim \\limits_{x \\to \\infty}(f(x) + g(x)) = \\lim \\limits_{x \\to \\infty}f(x) + \\lim \\limits_{x \\to \\infty}g(x)$  \n",
    "**Differenzenregel:**  \n",
    "$\\lim \\limits_{x \\to \\infty}(f(x) - g(x)) = \\lim \\limits_{x \\to \\infty}f(x) - \\lim \\limits_{x \\to \\infty}g(x)$  \n",
    "**Produktregel:**  \n",
    "$\\lim \\limits_{x \\to \\infty}(f(x) * g(x)) = \\lim \\limits_{x \\to \\infty}f(x) * \\lim \\limits_{x \\to \\infty}g(x)$  \n",
    "**Quotientenregel:**  \n",
    "$\\lim \\limits_{x \\to \\infty}\\frac{f(x)}{g(x)} = \\frac {\\lim \\limits_{x \\to \\infty}f(x)}{\\lim \\limits_{x \\to \\infty}g(x)}$  \n",
    "Also im Endeffekt wir erwartet :)  \n",
    "\n",
    "#### Merke:\n",
    "Für Polynomfunktionen gilt:  \n",
    "**Gerades Leitmonom:**  \n",
    "*positives Vorzeichen:*\n",
    "* $\\lim \\limits_{x \\to \\infty} = \\infty$  \n",
    "* $\\lim \\limits_{x \\to -\\infty} = \\infty$  \n",
    "\n",
    "*negatives Vorzeichen:*  \n",
    "* $\\lim \\limits_{x \\to \\infty} = - \\infty$  \n",
    "* $\\lim \\limits_{x \\to -\\infty} = - \\infty$  \n",
    "\n",
    "**Ungerades Leitmonom:**  \n",
    "*positives Vorzeichen:*\n",
    "* $\\lim \\limits_{x \\to \\infty} = \\infty$  \n",
    "* $\\lim \\limits_{x \\to -\\infty} = - \\infty$  \n",
    "\n",
    "*negatives Vorzeichen:*  \n",
    "* $\\lim \\limits_{x \\to \\infty} = - \\infty$  \n",
    "* $\\lim \\limits_{x \\to -\\infty} = \\infty$  "
   ]
  },
  {
   "cell_type": "markdown",
   "id": "a649601b",
   "metadata": {},
   "source": [
    "#### Wichtige Grenzwerte"
   ]
  },
  {
   "cell_type": "markdown",
   "id": "9475aecf",
   "metadata": {},
   "source": [
    "1. $f(x) = \\frac{1}{x} \\Rightarrow \\lim \\limits_{x \\to \\pm \\infty}f(x) = 0, \\lim \\limits_{x \\to \\pm 0 } = \\pm \\infty$"
   ]
  },
  {
   "cell_type": "code",
   "execution_count": null,
   "id": "869a3cd4",
   "metadata": {},
   "outputs": [],
   "source": []
  },
  {
   "cell_type": "markdown",
   "id": "366e2882",
   "metadata": {},
   "source": [
    "#### Wichtige Grenzwerte:  \n",
    "1. $f(x) = \\frac{1}{x} \\Rightarrow \\lim \\limits_{x \\to \\pm \\infty}f(x) = 0, \\lim \\limits_{x \\to \\pm 0 } = \\pm \\infty$  \n",
    "2. $f(x) = e^x \\Rightarrow \\lim \\limits_{x \\to \\infty} = \\infty, \\lim \\limits_{x \\to  -\\infty} = 0$  \n",
    "3. $f(x) = ln(x) \\Rightarrow \\lim \\limits_{x \\to \\pm \\infty} = \\infty, \\lim \\limits_{x \\to -\\infty} = -\\infty$  \n",
    "4. **Grenzwerte von Exponentialfunktionen**  \n",
    "* $\\lim \\limits_{x \\to +\\infty}a^x$:  \n",
    "    * $+\\infty$ for $a>1$  \n",
    "    * $0$ für $0<a<1$  \n",
    "    * kein Grenzwert für $a<0$    \n",
    "* $\\lim \\limits_{x \\to -\\infty}a^x$:  \n",
    "    * $0$ for $a>1$  \n",
    "    * $+ \\infty$ für $0<a<1$  \n",
    "    * kein Grenzwert für $a<0$\n",
    "5. **Grenzwerte für Potenzfunktionen**  \n",
    "* $\\lim \\limits_{x \\to +\\infty}x^n$:  \n",
    "    * $+ \\infty$ for $n>0$  \n",
    "    * $1$ für $n=0$  \n",
    "    * $0$ für $n<0$\n",
    "* $\\lim \\limits_{x \\to -\\infty}x^n$:  \n",
    "    * $+ \\infty$ für gerade $n>0$  \n",
    "    * $- \\infty$ für ungerade $n>0$  \n",
    "    * $1$ für $n=0$  \n",
    "    * $0$ für $n<0$"
   ]
  },
  {
   "cell_type": "markdown",
   "id": "e65daf37",
   "metadata": {},
   "source": [
    "**Beispiel 1 ( bisschen schwerer)**  \n",
    "Grenzwert bestimmen von $f(x)=\\frac{-2x^3+7x}{(x+1)^2}$ gegen $\\infty$"
   ]
  },
  {
   "cell_type": "markdown",
   "id": "354b6b65",
   "metadata": {},
   "source": [
    "**Lösung**  \n",
    "Hier macht es Sinn die größte Potenz im Nenner auszuklammern und dann die Grenzwerte zu bestimmen.  \n",
    "$\\lim \\limits_{x \\to \\infty}\\frac{-2x^3+7x}{(x+1)^2} = \\lim \\limits_{x \\to \\infty}\\frac{x^2(-2x+\\frac{7x}{x^2})}{x^2(1+\\frac{2x}{x^2}+\\frac{1}{x^2})} = \\lim \\limits_{x \\to \\infty}\\frac{-2x+\\frac{7x}{x^2}}{1+\\frac{2x}{x^2}+\\frac{1}{x^2}} = \n",
    "\\frac{\\lim \\limits_{x \\to \\infty}-2x + \\lim \\limits_{x \\to \\infty}\\frac{7}{x}}{1+\\lim \\limits_{x \\to \\infty}\\frac{2}{x}+\\lim \\limits_{x \\to \\infty}\\frac{1}{x^2}} = \\frac{\\lim \\limits_{x \\to \\infty}-2x +0}{1+0+0} = \\lim \\limits_{x \\to \\infty}-2x = -\\infty$\n"
   ]
  },
  {
   "cell_type": "markdown",
   "id": "bd0eaa82",
   "metadata": {},
   "source": [
    "**Beispiel 2 mit Exponentialfunktionen (schwer)**  \n",
    "Grenzwert bestimmen von $f(x)=\\frac{5^x-9^x}{5^{x+1}-3^{2x+2}}$ gegen $\\infty$"
   ]
  },
  {
   "cell_type": "markdown",
   "id": "a1451c63",
   "metadata": {},
   "source": [
    "**Lösung**  \n",
    "Hier ist es sinnvoll die größte Basis im Nenner auszuklammern.  \n",
    "$\\lim \\limits_{x \\to \\infty}\\frac{5^x-9^x}{5^{x+1}-9^{x+1}} = \\lim \\limits_{x \\to \\infty}\\frac{9^{x+1}(\\frac{5^x}{9^{x+1}}-\\frac{9^x}{9^{x+1}})}{9^{x+1}(\\frac{5^{x+1}}{9^{x+1}}-\\frac{9^{x+1}}{9^{x+1}})}\n",
    "= \\lim \\limits_{x \\to \\infty}\\frac{\\frac{1}{9}\\frac{5^x}{9^x}-9^{x-(x+1)}}{\\left(\\frac{5}{9}\\right)^{x+1}-1}\n",
    "= \\frac{\\frac{1}{9}\\lim \\limits_{x \\to \\infty}\\left(\\frac{5}{9}\\right)^x-\\frac{1}{9}}{\\lim \\limits_{x \\to \\infty}\\left(\\frac{5}{9}\\right)^{x+1}-1}\n",
    "= \\frac{0-\\frac{1}{9}}{0-1}\n",
    "= \\frac{1}{9}$"
   ]
  },
  {
   "cell_type": "code",
   "execution_count": null,
   "id": "5f101df4",
   "metadata": {},
   "outputs": [],
   "source": []
  },
  {
   "cell_type": "markdown",
   "id": "05c71160",
   "metadata": {},
   "source": [
    "### Achsenabschnitte \n",
    "#### y- Achse\n",
    "Funktiongraph schneidet die y- Achse genau bei $x = 0$.  \n",
    "Daher entspricht der y- Achsenabschnitt genau $f(0)$.\n",
    "#### x- Achse\n",
    "Um den Schnittpunkt des Funktionsgraphen mit der x- Achse zu berechnen muss der   \n",
    "Funktionswert Null gesetzt werden, löse also $f(x) = 0$ nach $x$ auf. \n",
    "**Lineare Funktionen:**  \n",
    "* Einfach umstellen :)  \n",
    "\n",
    "**Quadratische Funktionen:**  \n",
    "* Ausklammern oder PQ- Formel  \n",
    "\n",
    "**Ganzrational:**  \n",
    "* Ausklammern + eventuell PQ\n",
    "* Substitution"
   ]
  },
  {
   "cell_type": "markdown",
   "id": "319b433d",
   "metadata": {},
   "source": [
    "**Beispiel 1 Linear**   \n",
    "$f(x)=2x-3  \\stackrel{!}{=} 0 \\Rightarrow x=\\frac{3}{2}$"
   ]
  },
  {
   "cell_type": "markdown",
   "id": "e681344b",
   "metadata": {},
   "source": [
    "**Beispiel 2 Quadratisch**  \n",
    "$f(x) = x^2-6x+8$  \n",
    "Nutze PQ - Formel:\n",
    "$x_{1,2} = -\\frac{p}{2} \\pm \\sqrt{\\left(\\frac{p}{2}\\right)^2-q}$  "
   ]
  },
  {
   "cell_type": "markdown",
   "id": "f1fba0f8",
   "metadata": {},
   "source": [
    "**Beispiel 3 Ganzrational**  \n",
    "Ausklammern nutzen.  \n",
    "$f(x) = x^3-2x^2-3x = x(x^2-2x-3)$  \n",
    "Ein *Produkt* wird $0$ wenn eins der Glieder $0$ wird.   \n",
    "Daher ist $x_{1} = 0$, $x_{2,3}$ sind die Nullstellen der quadratischen Funktion    \n",
    "$x^2-2x-3$.    \n",
    "Mit der PQ- Formel ergibt sich $\\Rightarrow x_{2} = 3, x_{3} = -1$"
   ]
  },
  {
   "cell_type": "markdown",
   "id": "f74d458d",
   "metadata": {},
   "source": [
    "**Beispiel 4 Substitution**  \n",
    "Bei biquadratischen Funktionen können wir die Substitution nutzen.  \n",
    "$f(x) = x^4-19x^2+48$  \n",
    "Nun setzen wir $z=x^2$, damit ergibt sich:  \n",
    "$f(x) = z^2 -19z+48$  \n",
    "Nun mit PQ- Formel $z_{1,2}$ bestimmen:  \n",
    "$\\Rightarrow z_{1} = x^2 =  3, z_{2} = x^2 = 16$  \n",
    "Nun $x$ berechnen:   \n",
    "$\\Rightarrow x_{1} = \\sqrt{3}, x_{2} = -\\sqrt{3}, x_{3} = 4, x_{4} = -4$"
   ]
  }
 ],
 "metadata": {
  "kernelspec": {
   "display_name": "algotrading",
   "language": "python",
   "name": "algotrading"
  },
  "language_info": {
   "codemirror_mode": {
    "name": "ipython",
    "version": 3
   },
   "file_extension": ".py",
   "mimetype": "text/x-python",
   "name": "python",
   "nbconvert_exporter": "python",
   "pygments_lexer": "ipython3",
   "version": "3.9.7"
  }
 },
 "nbformat": 4,
 "nbformat_minor": 5
}
